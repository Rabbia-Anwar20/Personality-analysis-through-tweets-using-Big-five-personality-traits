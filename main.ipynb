{
 "cells": [
  {
   "cell_type": "code",
   "execution_count": 1,
   "metadata": {},
   "outputs": [],
   "source": [
    "import pandas as pd\n",
    "import numpy as np"
   ]
  },
  {
   "cell_type": "code",
   "execution_count": 2,
   "metadata": {},
   "outputs": [],
   "source": [
    "import seaborn as sns\n",
    "import matplotlib.pyplot as plt\n",
    "%matplotlib inline"
   ]
  },
  {
   "cell_type": "code",
   "execution_count": 3,
   "metadata": {},
   "outputs": [],
   "source": [
    "import json\n",
    "from pprint import pprint"
   ]
  },
  {
   "cell_type": "code",
   "execution_count": 4,
   "metadata": {},
   "outputs": [],
   "source": [
    "word_data=None\n",
    "with open('word_data.json','r') as f:\n",
    "    word_data=json.load(f)\n",
    "\n",
    "# print(word_data)"
   ]
  },
  {
   "cell_type": "code",
   "execution_count": 5,
   "metadata": {},
   "outputs": [],
   "source": [
    "df=pd.read_csv('essays.csv',encoding='latin1')"
   ]
  },
  {
   "cell_type": "code",
   "execution_count": 6,
   "metadata": {},
   "outputs": [
    {
     "data": {
      "text/html": [
       "<div>\n",
       "<style scoped>\n",
       "    .dataframe tbody tr th:only-of-type {\n",
       "        vertical-align: middle;\n",
       "    }\n",
       "\n",
       "    .dataframe tbody tr th {\n",
       "        vertical-align: top;\n",
       "    }\n",
       "\n",
       "    .dataframe thead th {\n",
       "        text-align: right;\n",
       "    }\n",
       "</style>\n",
       "<table border=\"1\" class=\"dataframe\">\n",
       "  <thead>\n",
       "    <tr style=\"text-align: right;\">\n",
       "      <th></th>\n",
       "      <th>#AUTHID</th>\n",
       "      <th>TEXT</th>\n",
       "    </tr>\n",
       "  </thead>\n",
       "  <tbody>\n",
       "    <tr>\n",
       "      <th>0</th>\n",
       "      <td>1997_504851.txt</td>\n",
       "      <td>Well, right now I just woke up from a mid-day ...</td>\n",
       "    </tr>\n",
       "    <tr>\n",
       "      <th>1</th>\n",
       "      <td>1997_605191.txt</td>\n",
       "      <td>Well, here we go with the stream of consciousn...</td>\n",
       "    </tr>\n",
       "    <tr>\n",
       "      <th>2</th>\n",
       "      <td>1997_687252.txt</td>\n",
       "      <td>An open keyboard and buttons to push. The thin...</td>\n",
       "    </tr>\n",
       "    <tr>\n",
       "      <th>3</th>\n",
       "      <td>1997_568848.txt</td>\n",
       "      <td>I can't believe it!  It's really happening!  M...</td>\n",
       "    </tr>\n",
       "    <tr>\n",
       "      <th>4</th>\n",
       "      <td>1997_688160.txt</td>\n",
       "      <td>Well, here I go with the good old stream of co...</td>\n",
       "    </tr>\n",
       "  </tbody>\n",
       "</table>\n",
       "</div>"
      ],
      "text/plain": [
       "           #AUTHID                                               TEXT\n",
       "0  1997_504851.txt  Well, right now I just woke up from a mid-day ...\n",
       "1  1997_605191.txt  Well, here we go with the stream of consciousn...\n",
       "2  1997_687252.txt  An open keyboard and buttons to push. The thin...\n",
       "3  1997_568848.txt  I can't believe it!  It's really happening!  M...\n",
       "4  1997_688160.txt  Well, here I go with the good old stream of co..."
      ]
     },
     "execution_count": 6,
     "metadata": {},
     "output_type": "execute_result"
    }
   ],
   "source": [
    "df.head()"
   ]
  },
  {
   "cell_type": "code",
   "execution_count": 7,
   "metadata": {},
   "outputs": [
    {
     "data": {
      "text/plain": [
       "(2467, 2)"
      ]
     },
     "execution_count": 7,
     "metadata": {},
     "output_type": "execute_result"
    }
   ],
   "source": [
    "df.shape"
   ]
  },
  {
   "cell_type": "code",
   "execution_count": 8,
   "metadata": {},
   "outputs": [],
   "source": [
    "df_data=df"
   ]
  },
  {
   "cell_type": "code",
   "execution_count": 9,
   "metadata": {},
   "outputs": [],
   "source": [
    "# in our problem we may need stopwords to so dont remove them"
   ]
  },
  {
   "cell_type": "code",
   "execution_count": 10,
   "metadata": {},
   "outputs": [],
   "source": [
    "from textblob import TextBlob"
   ]
  },
  {
   "cell_type": "code",
   "execution_count": 11,
   "metadata": {},
   "outputs": [],
   "source": [
    "blob=TextBlob(df_data['TEXT'][0])"
   ]
  },
  {
   "cell_type": "code",
   "execution_count": 12,
   "metadata": {},
   "outputs": [
    {
     "name": "stdout",
     "output_type": "stream",
     "text": [
      "Well, right now I just woke up from a mid-day nap.\n",
      "0.2857142857142857\n"
     ]
    }
   ],
   "source": [
    "for sen in blob.sentences:\n",
    "    print(sen)\n",
    "    print(sen.sentiment.polarity)\n",
    "    break"
   ]
  },
  {
   "cell_type": "code",
   "execution_count": 13,
   "metadata": {},
   "outputs": [],
   "source": [
    "from vaderSentiment.vaderSentiment import SentimentIntensityAnalyzer"
   ]
  },
  {
   "cell_type": "code",
   "execution_count": 14,
   "metadata": {},
   "outputs": [],
   "source": [
    "vsa=SentimentIntensityAnalyzer()"
   ]
  },
  {
   "cell_type": "code",
   "execution_count": 15,
   "metadata": {},
   "outputs": [
    {
     "name": "stdout",
     "output_type": "stream",
     "text": [
      "Well, right now I just woke up from a mid-day nap\n",
      "{'neg': 0.0, 'neu': 0.792, 'pos': 0.208, 'compound': 0.2732}\n",
      " It's sort of weird, but ever since I moved to Texas, I have had problems concentrating on things\n",
      "{'neg': 0.265, 'neu': 0.735, 'pos': 0.0, 'compound': -0.6183}\n",
      " I remember starting my homework in  10th grade as soon as the clock struck 4 and not stopping until it was done\n",
      "{'neg': 0.093, 'neu': 0.839, 'pos': 0.067, 'compound': -0.1421}\n",
      " Of course it was easier, but I still did it\n",
      "{'neg': 0.0, 'neu': 0.808, 'pos': 0.192, 'compound': 0.2263}\n",
      " But when I moved here, the homework got a little more challenging and there was a lot more busy work, and so I decided not to spend hours doing it, and just getting by\n",
      "{'neg': 0.0, 'neu': 0.938, 'pos': 0.062, 'compound': 0.2316}\n",
      " But the thing was that I always paid attention in class and just plain out knew the stuff, and now that I look back, if I had really worked hard and stayed on track the last two years without getting  lazy, I would have been a genius, but hey, that's all good\n",
      "{'neg': 0.038, 'neu': 0.838, 'pos': 0.124, 'compound': 0.6702}\n",
      " It's too late to correct the past, but I don't really know how to stay focused n the future\n",
      "{'neg': 0.0, 'neu': 0.825, 'pos': 0.175, 'compound': 0.5267}\n",
      " The one thing I know is that when  people say that b/c they live on campus they can't concentrate, it's b\n",
      "{'neg': 0.0, 'neu': 1.0, 'pos': 0.0, 'compound': 0.0}\n",
      " s\n",
      "{'neg': 0.0, 'neu': 0.0, 'pos': 0.0, 'compound': 0.0}\n",
      " For me it would be easier there, but alas, I'm living at home under the watchful eye of my parents and a little nagging sister that just nags and nags and nags\n",
      "{'neg': 0.338, 'neu': 0.616, 'pos': 0.047, 'compound': -0.8959}\n",
      " You get my point\n",
      "{'neg': 0.0, 'neu': 1.0, 'pos': 0.0, 'compound': 0.0}\n",
      " Another thing is, is that it's just a hassle to have to go all the way back to  school to just to go to library to study\n",
      "{'neg': 0.0, 'neu': 1.0, 'pos': 0.0, 'compound': 0.0}\n",
      " I need to move out, but I don't know how to tell them\n",
      "{'neg': 0.0, 'neu': 1.0, 'pos': 0.0, 'compound': 0.0}\n",
      " Don't get me wrong, I see where they're coming from and why they don't  want me to move out, but I need to get away and be on my own\n",
      "{'neg': 0.038, 'neu': 0.9, 'pos': 0.062, 'compound': 0.1695}\n",
      " They've sheltered me so much and I don't have a worry in the world\n",
      "{'neg': 0.0, 'neu': 0.821, 'pos': 0.179, 'compound': 0.3412}\n",
      " The only thing that they ask me to do is keep my room clean and help out with the business once in a while, but I can't even do that\n",
      "{'neg': 0.0, 'neu': 0.875, 'pos': 0.125, 'compound': 0.4019}\n",
      " But I need to\n",
      "{'neg': 0.0, 'neu': 1.0, 'pos': 0.0, 'compound': 0.0}\n",
      " But I got enough money from UT to live at a dorm or apartment  next semester and I think Ill take advantage of that\n",
      "{'neg': 0.0, 'neu': 0.889, 'pos': 0.111, 'compound': 0.3612}\n",
      " But off that topic now, I went to sixth street last night and had a blast\n",
      "{'neg': 0.0, 'neu': 1.0, 'pos': 0.0, 'compound': 0.0}\n",
      " I haven't been there in so long\n",
      "{'neg': 0.0, 'neu': 1.0, 'pos': 0.0, 'compound': 0.0}\n",
      " Now I know why I love Austin so much\n",
      "{'neg': 0.0, 'neu': 0.588, 'pos': 0.412, 'compound': 0.6369}\n",
      " When I lived in VA, I used to go up to DC all the time and had a blast, but here, there are so many students running around at night\n",
      "{'neg': 0.0, 'neu': 1.0, 'pos': 0.0, 'compound': 0.0}\n",
      " I just want to have some fun and I know that I am responsible enough to be able to  have fun, but keep my priorities straight\n",
      "{'neg': 0.0, 'neu': 0.656, 'pos': 0.344, 'compound': 0.7543}\n",
      " Living at home, I can't go out at all without them asking where? with who?  why?  when are you coming back?  and all those  questions\n",
      "{'neg': 0.0, 'neu': 1.0, 'pos': 0.0, 'compound': 0.0}\n",
      " I just wish I could be treated like a responsible person for once, but  my sister screwed that up for me\n",
      "{'neg': 0.183, 'neu': 0.594, 'pos': 0.223, 'compound': -0.2617}\n",
      " She went crazy the second she moved into college and messed up her whole college career by partying too much\n",
      "{'neg': 0.197, 'neu': 0.697, 'pos': 0.107, 'compound': -0.296}\n",
      " And that's the ultimate reason that they don't want me to go and have fun\n",
      "{'neg': 0.07, 'neu': 0.742, 'pos': 0.188, 'compound': 0.4728}\n",
      " But I'm not little anymore,  and they need to let me go and explore the world, but Im Indian; with Indian culture, with Indian values\n",
      "{'neg': 0.0, 'neu': 0.871, 'pos': 0.129, 'compound': 0.5499}\n",
      " They go against \"having fun\n",
      "{'neg': 0.0, 'neu': 0.548, 'pos': 0.452, 'compound': 0.5106}\n",
      " \"  I mean in the sense of meeting people or going out with people or partying or just plain having fun\n",
      "{'neg': 0.0, 'neu': 0.742, 'pos': 0.258, 'compound': 0.7096}\n",
      " My school is difficult already, but somehow I think that having more freedom will put more pressure on me to  do better in school b/c that's what my parents and ultimately I expect of myself\n",
      "{'neg': 0.113, 'neu': 0.658, 'pos': 0.229, 'compound': 0.7964}\n",
      " Well it's been fun writing, I don't know if you go anything out of this writing, but it helped me get some of my thoughts into order\n",
      "{'neg': 0.0, 'neu': 0.866, 'pos': 0.134, 'compound': 0.4019}\n",
      " So I hope you had fun reading it and good luck TA's\n",
      "{'neg': 0.0, 'neu': 0.361, 'pos': 0.639, 'compound': 0.908}\n",
      "    \n",
      "{'neg': 0.0, 'neu': 0.0, 'pos': 0.0, 'compound': 0.0}\n"
     ]
    }
   ],
   "source": [
    "for sen in df_data['TEXT'][0].split('.'):\n",
    "    print(sen)\n",
    "    print(vsa.polarity_scores(sen))\n",
    "#     break"
   ]
  },
  {
   "cell_type": "code",
   "execution_count": 16,
   "metadata": {},
   "outputs": [
    {
     "data": {
      "text/plain": [
       "['Am the life of the party.',\n",
       " 'Feel comfortable around people.',\n",
       " 'Start conversations.',\n",
       " 'Talk to a lot of different people at parties.',\n",
       " \"Don't mind being the center of attention.\",\n",
       " \"Don't talk a lot.\",\n",
       " 'Keep in the background.',\n",
       " 'Have little to say.',\n",
       " \"Don't like to draw attention to myself.\",\n",
       " 'Am quiet around strangers.',\n",
       " 'Am interested in people.',\n",
       " \"Sympathize with others' feelings.\",\n",
       " 'Have a soft heart.',\n",
       " 'Take time out for others.',\n",
       " \"Feel others' emotions.\",\n",
       " 'Make people feel at ease.',\n",
       " 'Feel little concern for others.',\n",
       " 'Insult people.',\n",
       " \"Am not interested in other people's problems.\",\n",
       " 'Am not really interested in others.',\n",
       " 'Am always prepared.',\n",
       " 'Pay attention to details.',\n",
       " 'Get chores done right away.',\n",
       " 'Like order.',\n",
       " 'Follow a schedule.',\n",
       " 'Am exacting in my work.',\n",
       " 'Leave my belongings around.',\n",
       " 'Make a mess of things.',\n",
       " 'Often forget to put things back in their proper place.',\n",
       " 'Shirk my duties.',\n",
       " 'Am relaxed most of the time.',\n",
       " 'Seldom feel blue.',\n",
       " 'Get stressed out easily.',\n",
       " 'Worry about things.',\n",
       " 'Am easily disturbed.',\n",
       " 'Get upset easily.',\n",
       " 'Change my mood a lot.',\n",
       " 'Have frequent mood swings.',\n",
       " 'Get irritated easily.',\n",
       " 'Often feel blue.',\n",
       " 'Have a rich vocabulary.',\n",
       " 'Have a vivid imagination.',\n",
       " 'Have excellent ideas.',\n",
       " 'Am quick to understand things.',\n",
       " 'Use difficult words.',\n",
       " 'Spend time reflecting on things.',\n",
       " 'Am full of ideas.',\n",
       " 'Have difficulty understanding abstract ideas.',\n",
       " 'Am not interested in abstract ideas.',\n",
       " 'Do not have a good imagination.']"
      ]
     },
     "execution_count": 16,
     "metadata": {},
     "output_type": "execute_result"
    }
   ],
   "source": [
    "questions=[]\n",
    "with open('questions.txt','r') as f:\n",
    "    questions=[line.rstrip('\\n') for line in f]\n",
    "questions"
   ]
  },
  {
   "cell_type": "code",
   "execution_count": 17,
   "metadata": {},
   "outputs": [],
   "source": [
    "def solve_questions(user_tweets):\n",
    "    for tweet in TextBlob(user_tweets).sentences:\n",
    "        \n",
    "        "
   ]
  }
 ],
 "metadata": {
  "kernelspec": {
   "display_name": "Python 3",
   "language": "python",
   "name": "python3"
  },
  "language_info": {
   "codemirror_mode": {
    "name": "ipython",
    "version": 3
   },
   "file_extension": ".py",
   "mimetype": "text/x-python",
   "name": "python",
   "nbconvert_exporter": "python",
   "pygments_lexer": "ipython3",
   "version": "3.6.5"
  }
 },
 "nbformat": 4,
 "nbformat_minor": 2
}
