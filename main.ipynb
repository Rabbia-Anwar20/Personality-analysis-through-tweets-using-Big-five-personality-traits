{
 "cells": [
  {
   "cell_type": "code",
   "execution_count": 7,
   "metadata": {},
   "outputs": [],
   "source": [
    "import pandas as pd\n",
    "import numpy as np"
   ]
  },
  {
   "cell_type": "code",
   "execution_count": 8,
   "metadata": {},
   "outputs": [],
   "source": [
    "import seaborn as sns\n",
    "import matplotlib.pyplot as plt\n",
    "%matplotlib inline"
   ]
  },
  {
   "cell_type": "code",
   "execution_count": 9,
   "metadata": {},
   "outputs": [],
   "source": [
    "import json\n",
    "from pprint import pprint"
   ]
  },
  {
   "cell_type": "code",
   "execution_count": 10,
   "metadata": {},
   "outputs": [
    {
     "name": "stdout",
     "output_type": "stream",
     "text": [
      "{'O_H': ['light', 'eyes', 'dark', 'soul', 'sky', 'sun', 'stars', 'darkness', 'moon', 'wind', 'earth', 'beauty', 'shadows', 'shadow', 'dreams', 'opinion', 'opinions', 'logic', 'based', 'political', 'fact', 'moral', 'beliefs', 'philosophy', 'argument', 'logical', 'facts', 'society', 'simply', 'human', 'beings', 'nature', 'spiritual', 'experience', 'compassion', 'sense', 'existence', 'reality', 'universe', 'humans', 'physical', 'divine', 'individual', 'humanity', \"i'm\", 'letting', 'alive', \"i've\", 'barely', 'holding', \"that's\", 'breathing', 'moment', 'standing', 'falling', 'living', 'hanging', 'move', 'fine', \"i've\", 'learned', 'lot', 'things', 'words', 'conclusion', 'forgotten', 'past', 'sum', 'recently', 'turned', 'learnt', 'noticed', 'lived', 'dealing', 'writing', 'write', 'read', 'story', 'poetry', 'poem', 'wrote', 'book', 'reading', 'stories', 'poems', 'written', 'creative', 'journal', 'writer', 'of', '.', 'the', 'that', \"i've\", 'into', '\"', \"i'm\", '', '', 'by', \"it's\", 'music', 'soul', \"that's\", '', ' but', 'world', '\" -', 'death', 'the world', \"i'll\", 'through', 'something', \"they're\", 'universe', 'apparently', 'dream', '. \" -', 'like', 'which', \"don't\", \"i don't\", 'the universe', 'writing', 'into the', 'sense', 'in the', 'as', 'dark', \"you're\", 'must', 'art', 'sound', 'light', \"i'd\", \"there's\", 'dead', \"i've been\", 'own', 'in', 'like a', 'humanity', 'perhaps', 'brain', 'note', 'a', 'mind', 'existence', 'quite', 'where', 'an', 'dreams', 'strange', 'right now .', 'deep', 'human', 'poetry', 'the world is', 'or', \"we're\", 'read', 'nature', 'i feel', 'alive', 'society', 'myself', 'realized', 'eyes', 'these', 'evil', 'kind', 'shall', 'my soul', 'seems', \"i'm going\", 'religion', 'reality', 'kind of', '', ' but i', 'it seems', \"i'd like\", 'kill', 'thus', 'seem', 'and', 'about', 'itself', 'books', 'become', \"i'd like to\", 'three'], 'O_L': ['wait', 'till', \"can't\", 'cnt', 'til', 'friday', 'tomorow', 'wed', 'nxt', 'cameron', 'tommorow', 'tmrw', 'wifey', 'great', 'lunch', 'nice', 'dinner', 'family', 'enjoyed', 'church', 'wonderful', 'afternoon', 'sunday', 'kids', 'evening', 'shopping', 'meeting', 'hubby', 'home', 'work', 'ready', 'hubby', 'bed', 'relax', 'dinner', 'shower', 'relaxing', 'heading', 'nap', 'early', 'chill', 'supper', 'snuggle', 'happy', 'birthday', 'wishing', 'sister', 'years', 'wonderful', 'st', 'daughter', 'nephew', 'brother', 'son', 'turns', 'niece', 'special', 'celebrate', 'week', 'days', 'work', 'school', 'weeks', 'starting', 'till', 'yay', 'holiday', 'holidays', 'half', 'wednesday', 'schedule', 'stressful', 'hectic', 'week', 'weekend', 'great', 'forward', 'hope', 'fast', 'monday', 'end', 'coming', 'start', 'hoping', 'ready', 'sunday', 'flew', 'this on your', 'alot', 'hope', '? ?', '1 more', 'its', 'wait for', 'football', 'this as', 'mom', '2day', 'lol', '2 days', 'a long day', 'had a good', 'go to', 'if u', 'had', 'paste this', 'copy and paste', 'and paste', 'nice', 'christmas', 'repost this', 'year', 'dinner', 'put this', 'tomorrow', 'to your status', 'wait to go', 'if you have', 'off', 'tired', 'a great day', 'gettin', '..', 'miss', 'baby', 'long day', 'till', 'wat', 'friday', 'won', 'ready for', 'great day', 'im', 'happy new', 'to bed', 'monday', 'copy and', 'cant wait for', 'happy new year', 'paste', '! ! !', 'days', 'cant wait to', '....', 'goin', 'school', 'proud', 'this to your', 'dont', 'new year', 'birthday', ':)', '1st', 'repost', 'your status', 'copy', 'the weekend', 'nite', 'great', 'n', 'ready', 'had a great', 'wait to', 'ur', 'game', 'bed', 'had a', 'shopping', 'week', 'weekend', 'day', '! !', 'a great', 'family', 'to go', 'home', 'happy', 'u', '!', '1', ':(', '2', 'cant wait', 'wait', '4', 'cant', 'go'], 'C_H': ['great', 'friends', 'family', 'time', 'weekend', 'wonderful', 'spend', 'spent', 'visiting', 'spending', 'catching', 'hanging', 'reunion', 'fam', 'fabulous', 'family', 'friends', 'wonderful', 'blessed', 'amazing', 'thankful', 'loving', 'husband', 'grateful', 'lucky', 'boyfriend', 'truely', 'supportive', 'daughter', 'helped', 'great', 'lunch', 'nice', 'dinner', 'family', 'enjoyed', 'church', 'wonderful', 'afternoon', 'sunday', 'kids', 'evening', 'shopping', 'meeting', 'hubby', 'day', 'wonderful', 'hope', 'great', 'blessed', 'beautiful', 'fantastic', 'filled', 'goodmorning', 'glorious', 'fabulous', ';-)', 'fiance', 'week', 'weekend', 'great', 'forward', 'hope', 'fast', 'monday', 'end', 'coming', 'start', 'hoping', 'ready', 'sunday', 'flew', 'week', 'work', 'days', 'rest', 'vacation', 'working', 'relaxation', 'starting', 'needed', 'begins', 'longest', 'survived', 'rough', 'recover', \"week's\", 'for', 'family', 'great', 'day', 'a great', 'wonderful', 'weekend', 'thank', 'week', 'our', 'to', 'ready', 'will be', 'a wonderful', 'will', 'friends', 'ready for', 'thank you', 'this morning', 'excited', 'morning', 'forward', 'today', 'blessed', 'to work', 'enjoying', 'thanksgiving', 'work', 'dinner', 'and', 'ready to', 'beautiful', 'vacation', 'prayers', 'happy', 'forward to', 'home', 'looking forward', 'thanks', 'looking forward to', 'family and friends', 'back to work', 'have', 'glad', 'the weekend', 'great weekend', 'all', 'blessing', 'had a great', 'in', 'this weekend', 'blessings', 'we', 'thankful', 'birthday wishes', 'a great weekend', 'friends and family', 'great day', 'proud', 'busy', 'to all my', 'time with', 'safe', 'year', 'a great day', 'the', \"can't wait to\", 'husband', 'so excited', 'everyone for', 'pray', 'sunday', 'us', 'days', 'off to', 'a beautiful', 'wishes', 'back to', 'weeks', 'thankful for', 'you have', 'friday', 'christmas', 'be', 'we are', 'you are', 'weather', 'to see', 'monday', 'beautiful day', 'at work', 'son', 'enjoy', 'are', 'life', 'had a wonderful', 'pray for', 'my family', 'happy thanksgiving', 'this week'], 'C_L': ['fucking', 'fuck', 'shit', 'pissed', 'bullshit', 'goddamn', 'piss', 'bitch', 'wtf', 'asshole', 'fucked', '>:', 'pissing', 'shitty', 'pisses', 'creepy', 'guy', 'kinda', 'weird', 'freak', 'scary', 'freaky', 'creep', 'random', 'creeper', 'dude', 'stalker', 'kind', 'freaked', 'staring', 'kill', 'kills', 'killed', 'murder', 'killing', 'die', 'swear', 'dead', 'alive', 'boredom', 'thrill', 'murdered', 'torture', 'destroy', 'shoot', 'weird', 'strange', 'kinda', 'feels', 'odd', 'normal', 'hyper', 'mood', 'reason', 'acting', 'crazy', 'sounds', 'kind', 'o.o', 'dreams', 'd:', 'tt', 't_t', 'dx', '>:', '>.<', 'nooooo', 'noooo', 'gah', 'nooo', 'dammit', 'noooooo', 'd:<', 'han', 'argh', 'bleh', 'bored', 'eff', 'damn', 'sigh', 'ugh', 'freaking', 'gah', 'effing', 'sucks', '-_-', '>_<', 'x_x', '>.<', 'headache', \"there's\", 'i swear', '>.<', 'zombie', 'i feel like', 'retarded', 'dont', 'tell me', 'holy shit', 'so bored', 'dick', '> . >', \"don't\", 'computer', ':p', \"'\", '?', 'the hell', 'wtf', \"i'd\", 'swear', 'like this', 'ever', 'suck', 'just', 'dude', '=', 'fml', 'i dont', ':', 'what the fuck', 'feel like', 'msn', 'youtube', 'goddamn', 'internet', ': o', 'annoying', 'death', \"i'm bored\", 'ftw', 'i want', 'gonna', \"i'll\", 'theres', 'so fucking', 'oh', 'apparently', 'gay', 'o_o', 'omfg', 'anime', 'bitch', 'my head', 'something', 'feel', \"they're\", 'black', 'like a', 'stop', 'my room', 'facebook', 'songs', 'o.o', ': 3', 'im', 'hair', 'hell', 'bored', \"you're\", 'pokemon', 'i feel', 'dx', 'fucked', 'i wanna', ':d', \"i've\", 'weird', 'epic', 'music', 'fuck you', \"i'm\", 'song', 'random', \"i don't\", 'stupid', 'wanna', 'i hate', 'i', 'kill', 'dead', 'd:', 'why', 'shit', 'me', 'hate', 'xd', 'fucking', 'fuck', 'like'], 'E_H': ['tonight', 'party', 'gonna', 'partying', 'rockin', 'town', 'poppin', 'club', 'messy', 'homies', 'bottles', 'champagne', 'rocking', 'drunken', 'booze', 'love', 'gotta', 'thunderstorms', 'love', 'miss', 'soo', 'guys', 'sooo', 'soooo', 'sooooo', 'missing', 'missed', 'soooooo', 'soooooooo', 'sooooooooo', 'youuu', 'privilege', 'night', 'tonight', 'girls', 'blast', 'forward', 'hanging', 'needed', 'bonfire', 'babysitting', 'sleepover', 'girly', 'partying', 'favorites', 'bestie', 'girlies', 'love', 'loved', 'truely', 'freely', 'shown', 'dearly', 'love', 'yo', 'adore', 'xoxo', 'admire', 'extraordinary', 'absolutly', 'genuine', 'entitled', 'mentioned', 'growth', 'love', '!', 'i love', 'night', 'party', 'tonight', 'amazing', 'come', '! !', ':)', 'girl', 'best', 'with my', 'excited', 'girls', 'love you', 'weekend', 'an amazing', 'im', 'ready', '! ! !', 'miss', 'the best', 'beautiful', 'baby', 'life', 'night with', 'great', 'i love my', 'wait to', 'a great', 'its', 'thank', 'cant', 'lets', 'my life', 'wait', 'so excited', 'goin', 'loves', 'u', 'sooo', 'with', 'i love you', 'last night', 'day', 'ready for', 'gettin', '<3', 'a blast', 'cant wait', 'last night !', 'good', 'bday', 'had an amazing', 'here i come', 'beach', 'boys', 'much fun', 'great night', 'blast', 'ready to', 'lovin', 'ur', 'fam', 'soooo', 'gonna be', 'dont', 'cant wait to', 'excited for', 'loving', 'wait to see', 'night was', 'sunday', 'wonderful', 'love my life', 'bout', 'chill', 'my baby', ';)', 'to see my', 'this weekend', 'last night was', 'right now !', 'guys', 'whats', 'time with', 'ladies', 'out with', 'crazy', 'miss you', 'here we', 'big', 'lil', 'missin', 'happy', 'great day', 'me', 'text', 'bestest'], 'E_L': ['computer', 'windows', 'laptop', 'pc', 'drive', 'gb', 'mac', 'files', 'installed', 'virus', 'computers', 'system', 'software', 'install', 'xp', \"it's\", 'thing', 'sort', \"isn't\", 'odd', 'suppose', 'strange', 'thinks', 'apparently', 'unusual', 'weird', 'telling', 'happening', 'fact', 'fairly', 'computer', 'error', 'program', 'photoshop', 'server', 'properly', 'file', 'website', 'message', 'view', 'web', 'code', 'type', 'download', 'flash', 'computer', 'finally', 'internet', 'fixed', 'working', 'laptop', 'yay', 'works', 'comp', 'online', 'slow', 'computers', 'library', 'crashed', 'access', 'read', 'book', 'reading', 'pages', 'chapter', 'books', 'written', 'page', 'article', 'notes', 'chapters', 'write', 'story', 'history', 'newspaper', 'acid', 'body', 'brain', 'chemical', 'natural', 'oxygen', 'chemistry', 'liquid', 'process', 'energy', 'cells', 'science', 'reaction', 'levels', 'element', 'odd', 'gah', 'able to', 'since', 'drawing', 'have', 'keyboard', 'sigh', 'from', '* sigh', \"i've been\", 'kind of', 'only', 'i have to', \"that's\", 'seems', 'other', 'managed', 'i should', 'finished watching', 'dark', \"haven't\", \"shouldn't\", 'dead', 'to write', 'idea', 'also', \"wasn't\", '>.<', 'to use', 'while', 'the', 'characters', 'found', 'managed to', 'doctor who', 'by', 'due', 'laptop', 'because', 'into', 'my computer', 'o.o', 'pokemon', \"don't have\", 'd:', \"i don't have\", \"i'm\", 'pages', 'as', \"i can't\", 'manga', 'xd', 'before', 'books', 'death', 'o_o', 'book', 'though', 'using', 'use', 'dx', 'the internet', 'not', \"i'm going to\", \"i'm going\", 'reading', 'to read', '> . >', 'actually', \"there's\", \"isn't\", 'writing', '', '', \"doesn't\", 'something', 'evil', 'anime', 'why', \"they're\", 'or', 'finished', \"didn't\", 'probably', 'apparently', 'at least', 'which', 'least', 'read', 'that', \"don't\", '', ' but', \"it's\", \"won't\", 'internet', \"i don't\", \"i've\", 'computer', '.', 'of'], 'A_H': ['family', 'friends', 'wonderful', 'blessed', 'amazing', 'thankful', 'loving', 'husband', 'grateful', 'lucky', 'boyfriend', 'truely', 'supportive', 'daughter', 'helped', 'day', 'wonderful', 'hope', 'great', 'blessed', 'beautiful', 'fantastic', 'filled', 'goodmorning', 'glorious', 'fabulous', ';-)', 'fiance', 'great', 'friends', 'family', 'time', 'weekend', 'wonderful', 'spend', 'spent', 'visiting', 'spending', 'catching', 'hanging', 'reunion', 'fam', 'fabulous', 'day', 'great', 'today', 'hope', 'remember', 'begins', 'quickly', 'catch', 'reach', 'calling', 'patience', 'stars', 'passion', 'fading', 'strength', 'great', 'night', 'awesome', 'friends', 'hung', 'amazing', 'guys', 'blast', 'met', 'hanging', 'hang', 'chilled', 'besties', 'buddies', 'helped', 'great', 'lunch', 'nice', 'dinner', 'family', 'enjoyed', 'church', 'wonderful', 'afternoon', 'sunday', 'kids', 'evening', 'shopping', 'meeting', 'hubby', 'wonderful', 'great', 'family', 'day', 'amazing', 'thank you', 'a great', 'excited', 'a wonderful', 'love', 'thank', 'for', 'beautiful', 'happy', 'friends', 'today', 'lord', 'pray', 'weekend', 'our', 'had', 'and', 'week', 'prayers', 'blessed', 'had a', 'fun', '! thank you', 'an amazing', 'church', 'so excited', 'praying', 'the lord', 'a beautiful', 'love you', 'good', 'had a great', 'had a wonderful', 'tomorrow', 'us', ':)', 'pray for', 'thanksgiving', 'praise', 'birthday', 'to see', 'everyone', 'to', 'great time', 'i love', 'a great time', 'with', 'god', 'christmas', 'beautiful day', 'be', 'blessings', 'blessing', 'god has', 'an awesome', 'time with', 'excited for', 'morning', 'wonderful day', 'my family', 'we', 'will be', 'much fun', 'you are', 'jesus', 'great day', 'tonight', 'a blast', 'thankful', 'you lord', 'your heart', 'life', \"god's\", 'with my', 'this morning', 'so much', 'had an', 'hope', 'thankful for', 'heart', 'glad', 'will', 'prayer', 'love you all', 'joy', 'awesome', 'strength', 'lots', 'a beautiful day', 'a wonderful day', 'so blessed', 'faith', 'praying for', 'the best', 'at'], 'A_L': ['fuck', 'fucking', 'shit', 'bitch', 'ass', 'fuckin', 'asshole', 'cunt', 'dick', 'pussy', 'bitches', 'motherfucker', 'assholes', 'piss', 'dumb', 'people', 'rude', 'selfish', 'stupid', 'ignorant', 'assholes', 'arrogant', \"they're\", 'pathetic', 'racist', 'act', 'minded', 'jerks', 'idiots', 'immature', 'kill', 'kills', 'killed', 'murder', 'killing', 'die', 'swear', 'dead', 'alive', 'boredom', 'thrill', 'murdered', 'torture', 'destroy', 'shoot', 'god', 'damn', 'swear', 'fucking', 'dammit', 'damnit', 'puff', 'powder', 'damned', 'dam', 'piss', 'pissing', 'hate', 'haters', 'hating', 'jealous', 'hater', 'bitches', 'mad', 'hated', 'hatin', 'jealousy', 'famous', 'lovers', \"ya'll\", 'envy', 'phase', 'hell', 'heaven', 'bloody', 'outta', 'drag', 'hotter', 'gates', 'hole', 'paradise', 'highway', 'naw', 'hath', 'bent', 'company', 'serve', 'bastards', 'murder', \"i don't\", 'damned', 'the fuck out', 'assholes', 'racist', 'fuck yeah', 'sick of', 'fuckers', 'the fuck up', 'give a shit', 'apparently', 'retarded', 'real', \"don't care\", 'i hate you', 'who the fuck', \"don't give a\", 'fucker', 'dont give a', 'fml', \"don't\", 'drink', 'vodka', 'smoke', 'f', 'screw', 'like shit', 'evil', 'f *', 'rape', 'as hell', 'rage', 'shut', 'asshole', \"fuckin '\", 'cunt', 'holy shit', 'piece of shit', 'aint', 'tits', 'killing', 'fucks', 'me', 'god damn', 'fuck up', 'pissed off', 'i swear', 'money', 'to kill', 'ugly', 'dick', 'people', 'i fucking hate', 'the fuck is', 'shitty', 'swear', 'burn', 'drunk', 'stupid', 'black', 'fucking hate', 'blood', 'whore', 'bastard', 'so fucking', 'give a fuck', 'goddamn', 'sex', 'suck', 'what the fuck', 'piss', 'fuck off', 'fucked up', 'a bitch', 'like', 'death', 'no', 'wtf', 'i hate', 'why', 'pissed', 'the hell', 'this shit', 'dead', 'fuckin', 'bullshit', 'bitches', 'fucked', 'fuck you', 'hate', 'damn', 'kill', 'ass', 'hell', 'bitch', 'fucking', 'fuck', 'shit'], 'N_H': ['feel', 'sick', 'crap', 'feeling', 'ugh', 'hate', 'feels', 'sucks', 'crappy', 'bleh', 'worse', 'miserable', 'sickness', 'icky', '=(', \"can't\", 'anymore', \"don't\", 'stand', 'handle', 'bothered', \"won't\", 'complain', 'deal', 'explain', 'figure', 'afford', 'properly', 'cope', 'careful', \"i'm\", 'sick', 'tired', 'feeling', 'hearing', 'tire', 'fed', 'bullshit', 'assuming', 'hurting', 'numb', 'surface', 'expecting', 'aware', 'complaining', '>:', 'stupid', 'hate', 'grrr', 'pissed', 'ugh', 'freaking', 'frustrated', '>:(', 'grrrr', 'grr', 'mad', 'freakin', 'annoyed', 'frustrating', \"don't\", 'anymore', 'bother', \"won't\", 'worry', 'care', \"doesn't\", 'reason', \"didn't\", 'point', \"there's\", 'realize', 'matters', 'recognize', 'argue', 'stressed', 'annoyed', 'tired', 'frustrated', 'extremely', 'pissed', 'irritated', 'feeling', 'depressed', 'confused', 'slightly', 'upset', 'grumpy', 'mood', 'disappointed', \"don't\", 'feel', 'anymore', 'beg', 'begging', 'honestly', 'knees', 'clue', 'hollow', 'creeping', 'sympathy', 'i', 'hate', 'really', 'anymore', 'i hate', 'sick', \"i don't\", 'feel', 'me', \"don't\", \"i can't\", 'want', 'hair', ':(', 'so', 'why', 'sick of', 'stupid', \"i'm\", \"won't\", \"i've\", 'her', 'fucking', 'i feel', 'my hair', \"can't\", 'she', 'someone', 'i want', 'myself', 'wish', 'pissed', 'know', 'my head', 'feel like', 'want to', 'actually', 'crap', '. i hate', 'cry', 'd:', \"i'm so\", 'scream', 'i wish', 'pissed off', \"you're\", 'headache', 'so sick', 'why do i', 'like', 'wish i', 'i have', 'mood', 'annoyed', 'wrong with', 'wrong with me', 'dying', \"don't want\", 'dye', '< /', 'tired', 'my', 'why does', 'crying', '< / 3', 'fed up', \"she's\", 'xd', 'hates', 'your status', 'lonely', 'alone', 'so sick of', '/ 3', \"don't know\", 'depression', \"i don't know\", 'hate my life', 'mum', 'scared', 'depressed', 'head', 'status', 'feels like', 'still', 'away', 'paste this', 'sims', 'hurt', 'fed', 'horrible', 'paste', \"i don't want\", 'annoying', 'put this', 'i want to', 'because i', 'too', 'dx', 'why do'], 'N_L': ['game', 'won', 'team', 'played', 'soccer', 'lost', 'football', 'win', 'season', 'games', 'score', 'boys', 'scored', 'basketball', 'goal', 'national', 'place', 'team', 'state', 'proud', 'congrats', 'won', 'competition', 'st', 'anthem', 'champion', 'tournament', 'congratulations', 'winning', 'champs', 'ability', 'character', 'knowledge', 'act', \"one's\", 'power', 'strength', 'confidence', 'habit', 'lack', 'courage', 'wisdom', 'integrity', 'intelligence', 'greater', 'goal', 'goals', 'achieve', 'reach', 'set', 'greatness', 'dreams', 'success', 'accomplish', 'reaching', 'perfection', 'achieved', 'strive', 'reached', 'potential', 'success', 'failure', 'key', 'successful', 'happiness', 'failures', 'succeed', 'fail', 'opportunity', 'huge', 'preparation', 'option', 'effort', 'ability', 'enthusiasm', 'dj', 'party', 'free', 'club', 'drinks', 'pm', 'drink', 'lounge', 'ladies', 'bar', 'vip', 'guest', 'entry', 'event', 'cover', 'obstacles', 'fam', 'we are', 'come', 'winning', 'miles', 'in the lord', 'of the lord', 'back', 'world', 'action', 'championship', 'opportunity', 'check', 'lebron', 'beautiful', 'a beautiful day', 'soccer', 'victory', 'heading', 'colorado', 'golf', 'of our', 'time for', 'usa', 'way to', '2010', 'gym', 'degrees', 'game tonight', 'state', 'training', 'life is', 'a beautiful', 'strength', 'jesus', 'miami', 'nigga', 'experience', 'denver', 'east', 'bout', 'church', 'ready', 'those who', 'greatness', 'for', 'city', 'win', 'chill', 'mile', 'tonight', 'world cup', 'basketball', 'begins', 'bout to', 'beer', 'here i come', 'season', 'his', 'glory', 'blast', 'a blast', 'determination', 'god', 'trip', 'a great', 'the greatest', 'won', 'lets go', 'flight', 'spirit', 'san', 'lets', 'the best', 'beach', 'the lord', 'first', 'beautiful day', 'our', 'day', 'lord', 'back in', 'sunday', 'greatest', 'us', 'in the', 'we', 'success', 'weekend', 'workout', 'good', 'time', 'football', 'man', 'team', 'great', 'game', 'in', 'the']}\n"
     ]
    }
   ],
   "source": [
    "word_data=None\n",
    "with open('word_data.json','r') as f:\n",
    "    word_data=json.load(f)\n",
    "\n",
    "print(word_data)"
   ]
  },
  {
   "cell_type": "code",
   "execution_count": 11,
   "metadata": {},
   "outputs": [],
   "source": [
    "df=pd.read_csv('essays.csv',encoding='latin1')"
   ]
  },
  {
   "cell_type": "code",
   "execution_count": 12,
   "metadata": {},
   "outputs": [
    {
     "data": {
      "text/html": [
       "<div>\n",
       "<style scoped>\n",
       "    .dataframe tbody tr th:only-of-type {\n",
       "        vertical-align: middle;\n",
       "    }\n",
       "\n",
       "    .dataframe tbody tr th {\n",
       "        vertical-align: top;\n",
       "    }\n",
       "\n",
       "    .dataframe thead th {\n",
       "        text-align: right;\n",
       "    }\n",
       "</style>\n",
       "<table border=\"1\" class=\"dataframe\">\n",
       "  <thead>\n",
       "    <tr style=\"text-align: right;\">\n",
       "      <th></th>\n",
       "      <th>#AUTHID</th>\n",
       "      <th>TEXT</th>\n",
       "    </tr>\n",
       "  </thead>\n",
       "  <tbody>\n",
       "    <tr>\n",
       "      <th>0</th>\n",
       "      <td>1997_504851.txt</td>\n",
       "      <td>Well, right now I just woke up from a mid-day ...</td>\n",
       "    </tr>\n",
       "    <tr>\n",
       "      <th>1</th>\n",
       "      <td>1997_605191.txt</td>\n",
       "      <td>Well, here we go with the stream of consciousn...</td>\n",
       "    </tr>\n",
       "    <tr>\n",
       "      <th>2</th>\n",
       "      <td>1997_687252.txt</td>\n",
       "      <td>An open keyboard and buttons to push. The thin...</td>\n",
       "    </tr>\n",
       "    <tr>\n",
       "      <th>3</th>\n",
       "      <td>1997_568848.txt</td>\n",
       "      <td>I can't believe it!  It's really happening!  M...</td>\n",
       "    </tr>\n",
       "    <tr>\n",
       "      <th>4</th>\n",
       "      <td>1997_688160.txt</td>\n",
       "      <td>Well, here I go with the good old stream of co...</td>\n",
       "    </tr>\n",
       "  </tbody>\n",
       "</table>\n",
       "</div>"
      ],
      "text/plain": [
       "           #AUTHID                                               TEXT\n",
       "0  1997_504851.txt  Well, right now I just woke up from a mid-day ...\n",
       "1  1997_605191.txt  Well, here we go with the stream of consciousn...\n",
       "2  1997_687252.txt  An open keyboard and buttons to push. The thin...\n",
       "3  1997_568848.txt  I can't believe it!  It's really happening!  M...\n",
       "4  1997_688160.txt  Well, here I go with the good old stream of co..."
      ]
     },
     "execution_count": 12,
     "metadata": {},
     "output_type": "execute_result"
    }
   ],
   "source": [
    "df.head()"
   ]
  },
  {
   "cell_type": "code",
   "execution_count": 13,
   "metadata": {},
   "outputs": [
    {
     "data": {
      "text/plain": [
       "(2467, 2)"
      ]
     },
     "execution_count": 13,
     "metadata": {},
     "output_type": "execute_result"
    }
   ],
   "source": [
    "df.shape"
   ]
  },
  {
   "cell_type": "code",
   "execution_count": 14,
   "metadata": {},
   "outputs": [],
   "source": [
    "df_data=df"
   ]
  },
  {
   "cell_type": "code",
   "execution_count": 15,
   "metadata": {},
   "outputs": [],
   "source": [
    "# in our problem we may need stopwords to so dont remove them"
   ]
  },
  {
   "cell_type": "code",
   "execution_count": 16,
   "metadata": {},
   "outputs": [],
   "source": [
    "from textblob import TextBlob"
   ]
  },
  {
   "cell_type": "code",
   "execution_count": 17,
   "metadata": {},
   "outputs": [],
   "source": [
    "blob=TextBlob(df_data['TEXT'][0])"
   ]
  },
  {
   "cell_type": "code",
   "execution_count": 18,
   "metadata": {},
   "outputs": [
    {
     "name": "stdout",
     "output_type": "stream",
     "text": [
      "Well, right now I just woke up from a mid-day nap.\n",
      "0.2857142857142857\n",
      "It's sort of weird, but ever since I moved to Texas, I have had problems concentrating on things.\n",
      "-0.5\n",
      "I remember starting my homework in  10th grade as soon as the clock struck 4 and not stopping until it was done.\n",
      "0.0\n",
      "Of course it was easier, but I still did it.\n",
      "0.0\n",
      "But when I moved here, the homework got a little more challenging and there was a lot more busy work, and so I decided not to spend hours doing it, and just getting by.\n",
      "0.28250000000000003\n",
      "But the thing was that I always paid attention in class and just plain out knew the stuff, and now that I look back, if I had really worked hard and stayed on track the last two years without getting  lazy, I would have been a genius, but hey, that's all good.\n",
      "0.020578231292516996\n",
      "It's too late to correct the past, but I don't really know how to stay focused n the future.\n",
      "-0.08750000000000001\n",
      "The one thing I know is that when  people say that b/c they live on campus they can't concentrate, it's b. s. For me it would be easier there, but alas, I'm living at home under the watchful eye of my parents and a little nagging sister that just nags and nags and nags.\n",
      "-0.1503787878787879\n",
      "You get my point.\n",
      "0.0\n",
      "Another thing is, is that it's just a hassle to have to go all the way back to  school to just to go to library to study.\n",
      "0.0\n",
      "I need to move out, but I don't know how to tell them.\n",
      "0.0\n",
      "Don't get me wrong, I see where they're coming from and why they don't  want me to move out, but I need to get away and be on my own.\n",
      "0.04999999999999999\n",
      "They've sheltered me so much and I don't have a worry in the world.\n",
      "0.2\n",
      "The only thing that they ask me to do is keep my room clean and help out with the business once in a while, but I can't even do that.\n",
      "0.18333333333333335\n",
      "But I need to.\n",
      "0.0\n",
      "But I got enough money from UT to live at a dorm or apartment  next semester and I think Ill take advantage of that.\n",
      "0.04545454545454545\n",
      "But off that topic now, I went to sixth street last night and had a blast.\n",
      "0.0\n",
      "I haven't been there in so long.\n",
      "-0.05\n",
      "Now I know why I love Austin so much.\n",
      "0.35\n",
      "When I lived in VA, I used to go up to DC all the time and had a blast, but here, there are so many students running around at night.\n",
      "0.5\n",
      "I just want to have some fun and I know that I am responsible enough to be able to  have fun, but keep my priorities straight.\n",
      "0.25\n",
      "Living at home, I can't go out at all without them asking where?\n",
      "0.0\n",
      "with who?\n",
      "0.0\n",
      "why?\n",
      "0.0\n",
      "when are you coming back?\n",
      "0.0\n",
      "and all those  questions.\n",
      "0.0\n",
      "I just wish I could be treated like a responsible person for once, but  my sister screwed that up for me.\n",
      "0.2\n",
      "She went crazy the second she moved into college and messed up her whole college career by partying too much.\n",
      "-0.04999999999999999\n",
      "And that's the ultimate reason that they don't want me to go and have fun.\n",
      "0.15\n",
      "But I'm not little anymore,  and they need to let me go and explore the world, but Im Indian; with Indian culture, with Indian values.\n",
      "0.09375\n",
      "They go against \"having fun. \"\n",
      "0.3\n",
      "I mean in the sense of meeting people or going out with people or partying or just plain having fun.\n",
      "-0.0755952380952381\n",
      "My school is difficult already, but somehow I think that having more freedom will put more pressure on me to  do better in school b/c that's what my parents and ultimately I expect of myself.\n",
      "0.2\n",
      "Well it's been fun writing, I don't know if you go anything out of this writing, but it helped me get some of my thoughts into order.\n",
      "0.3\n",
      "So I hope you had fun reading it and good luck TA's.\n",
      "0.5\n"
     ]
    }
   ],
   "source": [
    "for sen in blob.sentences:\n",
    "    print(sen)\n",
    "    print(sen.sentiment.polarity)"
   ]
  },
  {
   "cell_type": "code",
   "execution_count": 19,
   "metadata": {},
   "outputs": [],
   "source": [
    "from vaderSentiment.vaderSentiment import SentimentIntensityAnalyzer"
   ]
  },
  {
   "cell_type": "code",
   "execution_count": 20,
   "metadata": {},
   "outputs": [],
   "source": [
    "vsa=SentimentIntensityAnalyzer()"
   ]
  },
  {
   "cell_type": "code",
   "execution_count": 21,
   "metadata": {},
   "outputs": [
    {
     "name": "stdout",
     "output_type": "stream",
     "text": [
      "Well, right now I just woke up from a mid-day nap\n",
      "{'neg': 0.0, 'neu': 0.792, 'pos': 0.208, 'compound': 0.2732}\n",
      " It's sort of weird, but ever since I moved to Texas, I have had problems concentrating on things\n",
      "{'neg': 0.265, 'neu': 0.735, 'pos': 0.0, 'compound': -0.6183}\n",
      " I remember starting my homework in  10th grade as soon as the clock struck 4 and not stopping until it was done\n",
      "{'neg': 0.093, 'neu': 0.839, 'pos': 0.067, 'compound': -0.1421}\n",
      " Of course it was easier, but I still did it\n",
      "{'neg': 0.0, 'neu': 0.808, 'pos': 0.192, 'compound': 0.2263}\n",
      " But when I moved here, the homework got a little more challenging and there was a lot more busy work, and so I decided not to spend hours doing it, and just getting by\n",
      "{'neg': 0.0, 'neu': 0.938, 'pos': 0.062, 'compound': 0.2316}\n",
      " But the thing was that I always paid attention in class and just plain out knew the stuff, and now that I look back, if I had really worked hard and stayed on track the last two years without getting  lazy, I would have been a genius, but hey, that's all good\n",
      "{'neg': 0.038, 'neu': 0.838, 'pos': 0.124, 'compound': 0.6702}\n",
      " It's too late to correct the past, but I don't really know how to stay focused n the future\n",
      "{'neg': 0.0, 'neu': 0.825, 'pos': 0.175, 'compound': 0.5267}\n",
      " The one thing I know is that when  people say that b/c they live on campus they can't concentrate, it's b\n",
      "{'neg': 0.0, 'neu': 1.0, 'pos': 0.0, 'compound': 0.0}\n",
      " s\n",
      "{'neg': 0.0, 'neu': 0.0, 'pos': 0.0, 'compound': 0.0}\n",
      " For me it would be easier there, but alas, I'm living at home under the watchful eye of my parents and a little nagging sister that just nags and nags and nags\n",
      "{'neg': 0.338, 'neu': 0.616, 'pos': 0.047, 'compound': -0.8959}\n",
      " You get my point\n",
      "{'neg': 0.0, 'neu': 1.0, 'pos': 0.0, 'compound': 0.0}\n",
      " Another thing is, is that it's just a hassle to have to go all the way back to  school to just to go to library to study\n",
      "{'neg': 0.0, 'neu': 1.0, 'pos': 0.0, 'compound': 0.0}\n",
      " I need to move out, but I don't know how to tell them\n",
      "{'neg': 0.0, 'neu': 1.0, 'pos': 0.0, 'compound': 0.0}\n",
      " Don't get me wrong, I see where they're coming from and why they don't  want me to move out, but I need to get away and be on my own\n",
      "{'neg': 0.038, 'neu': 0.9, 'pos': 0.062, 'compound': 0.1695}\n",
      " They've sheltered me so much and I don't have a worry in the world\n",
      "{'neg': 0.0, 'neu': 0.821, 'pos': 0.179, 'compound': 0.3412}\n",
      " The only thing that they ask me to do is keep my room clean and help out with the business once in a while, but I can't even do that\n",
      "{'neg': 0.0, 'neu': 0.875, 'pos': 0.125, 'compound': 0.4019}\n",
      " But I need to\n",
      "{'neg': 0.0, 'neu': 1.0, 'pos': 0.0, 'compound': 0.0}\n",
      " But I got enough money from UT to live at a dorm or apartment  next semester and I think Ill take advantage of that\n",
      "{'neg': 0.0, 'neu': 0.889, 'pos': 0.111, 'compound': 0.3612}\n",
      " But off that topic now, I went to sixth street last night and had a blast\n",
      "{'neg': 0.0, 'neu': 1.0, 'pos': 0.0, 'compound': 0.0}\n",
      " I haven't been there in so long\n",
      "{'neg': 0.0, 'neu': 1.0, 'pos': 0.0, 'compound': 0.0}\n",
      " Now I know why I love Austin so much\n",
      "{'neg': 0.0, 'neu': 0.588, 'pos': 0.412, 'compound': 0.6369}\n",
      " When I lived in VA, I used to go up to DC all the time and had a blast, but here, there are so many students running around at night\n",
      "{'neg': 0.0, 'neu': 1.0, 'pos': 0.0, 'compound': 0.0}\n",
      " I just want to have some fun and I know that I am responsible enough to be able to  have fun, but keep my priorities straight\n",
      "{'neg': 0.0, 'neu': 0.656, 'pos': 0.344, 'compound': 0.7543}\n",
      " Living at home, I can't go out at all without them asking where? with who?  why?  when are you coming back?  and all those  questions\n",
      "{'neg': 0.0, 'neu': 1.0, 'pos': 0.0, 'compound': 0.0}\n",
      " I just wish I could be treated like a responsible person for once, but  my sister screwed that up for me\n",
      "{'neg': 0.183, 'neu': 0.594, 'pos': 0.223, 'compound': -0.2617}\n",
      " She went crazy the second she moved into college and messed up her whole college career by partying too much\n",
      "{'neg': 0.197, 'neu': 0.697, 'pos': 0.107, 'compound': -0.296}\n",
      " And that's the ultimate reason that they don't want me to go and have fun\n",
      "{'neg': 0.07, 'neu': 0.742, 'pos': 0.188, 'compound': 0.4728}\n",
      " But I'm not little anymore,  and they need to let me go and explore the world, but Im Indian; with Indian culture, with Indian values\n",
      "{'neg': 0.0, 'neu': 0.871, 'pos': 0.129, 'compound': 0.5499}\n",
      " They go against \"having fun\n",
      "{'neg': 0.0, 'neu': 0.548, 'pos': 0.452, 'compound': 0.5106}\n",
      " \"  I mean in the sense of meeting people or going out with people or partying or just plain having fun\n",
      "{'neg': 0.0, 'neu': 0.742, 'pos': 0.258, 'compound': 0.7096}\n",
      " My school is difficult already, but somehow I think that having more freedom will put more pressure on me to  do better in school b/c that's what my parents and ultimately I expect of myself\n",
      "{'neg': 0.113, 'neu': 0.658, 'pos': 0.229, 'compound': 0.7964}\n",
      " Well it's been fun writing, I don't know if you go anything out of this writing, but it helped me get some of my thoughts into order\n",
      "{'neg': 0.0, 'neu': 0.866, 'pos': 0.134, 'compound': 0.4019}\n",
      " So I hope you had fun reading it and good luck TA's\n",
      "{'neg': 0.0, 'neu': 0.361, 'pos': 0.639, 'compound': 0.908}\n",
      "    \n",
      "{'neg': 0.0, 'neu': 0.0, 'pos': 0.0, 'compound': 0.0}\n"
     ]
    }
   ],
   "source": [
    "for sen in df_data['TEXT'][0].split('.'):\n",
    "    print(sen)\n",
    "    print(vsa.polarity_scores(sen))"
   ]
  },
  {
   "cell_type": "code",
   "execution_count": null,
   "metadata": {},
   "outputs": [],
   "source": []
  }
 ],
 "metadata": {
  "kernelspec": {
   "display_name": "Python 3",
   "language": "python",
   "name": "python3"
  },
  "language_info": {
   "codemirror_mode": {
    "name": "ipython",
    "version": 3
   },
   "file_extension": ".py",
   "mimetype": "text/x-python",
   "name": "python",
   "nbconvert_exporter": "python",
   "pygments_lexer": "ipython3",
   "version": "3.6.5"
  }
 },
 "nbformat": 4,
 "nbformat_minor": 2
}
