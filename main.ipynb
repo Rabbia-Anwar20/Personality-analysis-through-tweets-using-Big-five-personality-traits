{
 "cells": [
  {
   "cell_type": "code",
   "execution_count": 1,
   "metadata": {},
   "outputs": [],
   "source": [
    "import pandas as pd\n",
    "import numpy as np"
   ]
  },
  {
   "cell_type": "code",
   "execution_count": 2,
   "metadata": {},
   "outputs": [],
   "source": [
    "import seaborn as sns\n",
    "import matplotlib.pyplot as plt\n",
    "%matplotlib inline"
   ]
  },
  {
   "cell_type": "code",
   "execution_count": 3,
   "metadata": {},
   "outputs": [],
   "source": [
    "import json\n",
    "from pprint import pprint"
   ]
  },
  {
   "cell_type": "code",
   "execution_count": 4,
   "metadata": {},
   "outputs": [],
   "source": [
    "word_data=None\n",
    "with open('word_data.json','r') as f:\n",
    "    word_data=json.load(f)\n",
    "\n",
    "# print(word_data)"
   ]
  },
  {
   "cell_type": "code",
   "execution_count": 5,
   "metadata": {},
   "outputs": [],
   "source": [
    "df=pd.read_csv('essays.csv',encoding='latin1')"
   ]
  },
  {
   "cell_type": "code",
   "execution_count": 6,
   "metadata": {},
   "outputs": [
    {
     "data": {
      "text/html": [
       "<div>\n",
       "<style scoped>\n",
       "    .dataframe tbody tr th:only-of-type {\n",
       "        vertical-align: middle;\n",
       "    }\n",
       "\n",
       "    .dataframe tbody tr th {\n",
       "        vertical-align: top;\n",
       "    }\n",
       "\n",
       "    .dataframe thead th {\n",
       "        text-align: right;\n",
       "    }\n",
       "</style>\n",
       "<table border=\"1\" class=\"dataframe\">\n",
       "  <thead>\n",
       "    <tr style=\"text-align: right;\">\n",
       "      <th></th>\n",
       "      <th>#AUTHID</th>\n",
       "      <th>TEXT</th>\n",
       "    </tr>\n",
       "  </thead>\n",
       "  <tbody>\n",
       "    <tr>\n",
       "      <th>0</th>\n",
       "      <td>1997_504851.txt</td>\n",
       "      <td>Well, right now I just woke up from a mid-day ...</td>\n",
       "    </tr>\n",
       "    <tr>\n",
       "      <th>1</th>\n",
       "      <td>1997_605191.txt</td>\n",
       "      <td>Well, here we go with the stream of consciousn...</td>\n",
       "    </tr>\n",
       "    <tr>\n",
       "      <th>2</th>\n",
       "      <td>1997_687252.txt</td>\n",
       "      <td>An open keyboard and buttons to push. The thin...</td>\n",
       "    </tr>\n",
       "    <tr>\n",
       "      <th>3</th>\n",
       "      <td>1997_568848.txt</td>\n",
       "      <td>I can't believe it!  It's really happening!  M...</td>\n",
       "    </tr>\n",
       "    <tr>\n",
       "      <th>4</th>\n",
       "      <td>1997_688160.txt</td>\n",
       "      <td>Well, here I go with the good old stream of co...</td>\n",
       "    </tr>\n",
       "  </tbody>\n",
       "</table>\n",
       "</div>"
      ],
      "text/plain": [
       "           #AUTHID                                               TEXT\n",
       "0  1997_504851.txt  Well, right now I just woke up from a mid-day ...\n",
       "1  1997_605191.txt  Well, here we go with the stream of consciousn...\n",
       "2  1997_687252.txt  An open keyboard and buttons to push. The thin...\n",
       "3  1997_568848.txt  I can't believe it!  It's really happening!  M...\n",
       "4  1997_688160.txt  Well, here I go with the good old stream of co..."
      ]
     },
     "execution_count": 6,
     "metadata": {},
     "output_type": "execute_result"
    }
   ],
   "source": [
    "df.head()"
   ]
  },
  {
   "cell_type": "code",
   "execution_count": 7,
   "metadata": {},
   "outputs": [
    {
     "data": {
      "text/plain": [
       "(2467, 2)"
      ]
     },
     "execution_count": 7,
     "metadata": {},
     "output_type": "execute_result"
    }
   ],
   "source": [
    "df.shape"
   ]
  },
  {
   "cell_type": "code",
   "execution_count": 8,
   "metadata": {},
   "outputs": [],
   "source": [
    "df_data=df"
   ]
  },
  {
   "cell_type": "code",
   "execution_count": 9,
   "metadata": {},
   "outputs": [],
   "source": [
    "# in our problem we may need stopwords to so dont remove them"
   ]
  },
  {
   "cell_type": "code",
   "execution_count": 10,
   "metadata": {},
   "outputs": [],
   "source": [
    "from textblob import TextBlob"
   ]
  },
  {
   "cell_type": "code",
   "execution_count": 11,
   "metadata": {},
   "outputs": [],
   "source": [
    "blob=TextBlob(df_data['TEXT'][0])"
   ]
  },
  {
   "cell_type": "code",
   "execution_count": 12,
   "metadata": {},
   "outputs": [
    {
     "name": "stdout",
     "output_type": "stream",
     "text": [
      "Well, right now I just woke up from a mid-day nap.\n",
      "0.2857142857142857\n"
     ]
    }
   ],
   "source": [
    "for sen in blob.sentences:\n",
    "    print(sen)\n",
    "    print(sen.sentiment.polarity)\n",
    "    break"
   ]
  },
  {
   "cell_type": "code",
   "execution_count": 13,
   "metadata": {},
   "outputs": [],
   "source": [
    "from vaderSentiment.vaderSentiment import SentimentIntensityAnalyzer"
   ]
  },
  {
   "cell_type": "code",
   "execution_count": 14,
   "metadata": {},
   "outputs": [],
   "source": [
    "vsa=SentimentIntensityAnalyzer()"
   ]
  },
  {
   "cell_type": "code",
   "execution_count": 18,
   "metadata": {},
   "outputs": [
    {
     "name": "stdout",
     "output_type": "stream",
     "text": [
      "Well, right now I just woke up from a mid-day nap\n",
      "{'neg': 0.0, 'neu': 0.792, 'pos': 0.208, 'compound': 0.2732}\n"
     ]
    }
   ],
   "source": [
    "for sen in df_data['TEXT'][0].split('.'):\n",
    "    print(sen)\n",
    "    print(vsa.polarity_scores(sen))\n",
    "    break"
   ]
  },
  {
   "cell_type": "code",
   "execution_count": 19,
   "metadata": {},
   "outputs": [
    {
     "name": "stdout",
     "output_type": "stream",
     "text": [
      "['Am the life of the party.', 'Feel comfortable around people.', 'Start conversations.', 'Talk to a lot of different people at parties.', \"Don't mind being the center of attention.\", \"Don't talk a lot.\", 'Keep in the background.', 'Have little to say.', \"Don't like to draw attention to myself.\", 'Am quiet around strangers.', 'Am interested in people.', \"Sympathize with others' feelings.\", 'Have a soft heart.', 'Take time out for others.', \"Feel others' emotions.\", 'Make people feel at ease.', 'Feel little concern for others.', 'Insult people.', \"Am not interested in other people's problems.\", 'Am not really interested in others.', 'Am always prepared.', 'Pay attention to details.', 'Get chores done right away.', 'Like order.', 'Follow a schedule.', 'Am exacting in my work.', 'Leave my belongings around.', 'Make a mess of things.', 'Often forget to put things back in their proper place.', 'Shirk my duties.', 'Am relaxed most of the time.', 'Seldom feel blue.', 'Get stressed out easily.', 'Worry about things.', 'Am easily disturbed.', 'Get upset easily.', 'Change my mood a lot.', 'Have frequent mood swings.', 'Get irritated easily.', 'Often feel blue.', 'Have a rich vocabulary.', 'Have a vivid imagination.', 'Have excellent ideas.', 'Am quick to understand things.', 'Use difficult words.', 'Spend time reflecting on things.', 'Am full of ideas.', 'Have difficulty understanding abstract ideas.', 'Am not interested in abstract ideas.', 'Do not have a good imagination.']\n"
     ]
    }
   ],
   "source": [
    "questions=[]\n",
    "with open('questions.txt','r') as f:\n",
    "    questions=[line.rstrip('\\n') for line in f]\n",
    "print(questions)"
   ]
  },
  {
   "cell_type": "code",
   "execution_count": 44,
   "metadata": {},
   "outputs": [
    {
     "name": "stdout",
     "output_type": "stream",
     "text": [
      "['1-1.txt', '1-2.txt', '1-3.txt', '1-4.txt', '1-5.txt', '1-6.txt', '1-7.txt', '1-8.txt', '1-9.txt', '1-10.txt', '2-1.txt', '2-2.txt', '2-3.txt', '2-4.txt', '2-5.txt', '2-6.txt', '2-7.txt', '2-8.txt', '2-9.txt', '2-10.txt', '3-1.txt', '3-2.txt', '3-3.txt', '3-4.txt', '3-5.txt', '3-6.txt', '3-7.txt', '3-8.txt', '3-9.txt', '3-10.txt', '4-1.txt', '4-2.txt', '4-3.txt', '4-4.txt', '4-5.txt', '4-6.txt', '4-7.txt', '4-8.txt', '4-9.txt', '4-10.txt', '5-1.txt', '5-2.txt', '5-3.txt', '5-4.txt', '5-5.txt', '5-6.txt', '5-7.txt', '5-8.txt', '5-9.txt', '5-10.txt']\n"
     ]
    }
   ],
   "source": [
    "import os\n",
    "all_files=os.listdir(\"q_c/\")\n",
    "all_files.sort(key=lambda x:( int(x[0:1]) , int(x[2:-4]) ) )\n",
    "print(all_files)"
   ]
  },
  {
   "cell_type": "code",
   "execution_count": 52,
   "metadata": {},
   "outputs": [
    {
     "data": {
      "text/plain": [
       "'df d'"
      ]
     },
     "execution_count": 52,
     "metadata": {},
     "output_type": "execute_result"
    }
   ],
   "source": [
    "' df d  '.strip()"
   ]
  },
  {
   "cell_type": "code",
   "execution_count": 30,
   "metadata": {},
   "outputs": [
    {
     "data": {
      "text/plain": [
       "\"great,time,weekend,wonderful,spend,spent,visiting,spending,catching,hanging,reunion,fam,fabulous,wonderful,blessed,amazing,thankful,loving,grateful,lucky,truely,supportive,great,enjoyed,wonderful,afternoon,sunday,evening,meeting,day,wonderful,hope,great,blessed,beautiful,fantastic,filled,goodmorning,glorious,fabulous,;-),week,weekend,great,forward,hope,fast,monday,end,coming,start,hoping,ready,sundayflew,week,work,days,rest,vacation,working,relaxation,starting,needed,begins,longest,survived,rough,recover,week's,for,family,great,day,a great,wonderful,weekend,thank,week,our,to,ready,will be,a wonderful,will,ready for,thank you,this morning,excited,morning,forward,today,blessed,to work,enjoying,thanksgiving,work,dinner,and,ready to,beautiful,vacation,prayers,happy,forward to,home,looking forward,thanks,looking forward to,back to work,have,glad,the weekend,great weekend,all,blessing,had a great,in,this weekend,blessings,we,thankful,birthday wishes,great day,proud,busy,to all my,time with,safe,year,a great day,the,can't wait to,so excited,everyone for,pray,sunday,us,days,off to,a beautiful,wishes,back to,weeks,thankful for,you have,friday,be,we are,you are,weather,to see,monday,beautiful day,at work,son,enjoy,are,life,had a wonderful,pray for,my family,happy thanksgiving,this week\""
      ]
     },
     "execution_count": 30,
     "metadata": {},
     "output_type": "execute_result"
    }
   ],
   "source": [
    "open(f\"q_c/3-6.txt\",'r').read()"
   ]
  },
  {
   "cell_type": "code",
   "execution_count": 54,
   "metadata": {},
   "outputs": [
    {
     "data": {
      "text/plain": [
       "5"
      ]
     },
     "execution_count": 54,
     "metadata": {},
     "output_type": "execute_result"
    }
   ],
   "source": [
    "open(f\"aw.txt\",'w').write('1,2,4')"
   ]
  },
  {
   "cell_type": "code",
   "execution_count": null,
   "metadata": {},
   "outputs": [],
   "source": []
  },
  {
   "cell_type": "code",
   "execution_count": 17,
   "metadata": {},
   "outputs": [],
   "source": [
    "users_ansr=''\n",
    "def solve_questions(data):\n",
    "    count=0;probs=[]\n",
    "        for i in all_files:\n",
    "    for tweet in TextBlob(data['TEXT']).sentences:\n",
    "            for j in open(f\"q_c/{i}\",'r').read().split(','):\n",
    "                if j in tweet:\n",
    "                    count+=1\n",
    "            probs.append(count/len(tweet))\n",
    "        "
   ]
  },
  {
   "cell_type": "code",
   "execution_count": null,
   "metadata": {},
   "outputs": [],
   "source": []
  }
 ],
 "metadata": {
  "kernelspec": {
   "display_name": "Python 3",
   "language": "python",
   "name": "python3"
  },
  "language_info": {
   "codemirror_mode": {
    "name": "ipython",
    "version": 3
   },
   "file_extension": ".py",
   "mimetype": "text/x-python",
   "name": "python",
   "nbconvert_exporter": "python",
   "pygments_lexer": "ipython3",
   "version": "3.6.5"
  }
 },
 "nbformat": 4,
 "nbformat_minor": 2
}
