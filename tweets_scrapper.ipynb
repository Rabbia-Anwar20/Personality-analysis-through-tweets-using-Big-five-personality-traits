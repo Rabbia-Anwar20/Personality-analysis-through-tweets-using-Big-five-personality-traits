{
 "cells": [
  {
   "cell_type": "code",
   "execution_count": 18,
   "metadata": {
    "ExecuteTime": {
     "end_time": "2018-07-01T12:32:30.824836Z",
     "start_time": "2018-07-01T12:32:30.819836Z"
    }
   },
   "outputs": [],
   "source": [
    "import tweepy as tp"
   ]
  },
  {
   "cell_type": "code",
   "execution_count": 19,
   "metadata": {
    "ExecuteTime": {
     "end_time": "2018-07-01T12:32:30.912835Z",
     "start_time": "2018-07-01T12:32:30.828838Z"
    }
   },
   "outputs": [],
   "source": [
    "consumer_key='XTE6RfJK5m1LzD5i5N4Tjoxcu'\n",
    "consumer_secret='HF0ZpBLxFesoLhlwDPja8COxJS3r4QdZuegkYwnjxCsCrsiu0W'\n",
    "access_token='751370996964323329-LfGMEaDxZaTB59432PgdAWxNmXpymDJ'\n",
    "access_token_secret='RntwtUqZZ8XQVNUYXoWqpRVV1mYuO8xzXheUnpEhyqeoQ'\n",
    "\n",
    "auth=tp.OAuthHandler(consumer_key,consumer_secret)\n",
    "auth.set_access_token(access_token,access_token_secret)"
   ]
  },
  {
   "cell_type": "code",
   "execution_count": 20,
   "metadata": {
    "ExecuteTime": {
     "end_time": "2018-07-01T12:32:30.994832Z",
     "start_time": "2018-07-01T12:32:30.916838Z"
    }
   },
   "outputs": [],
   "source": [
    "api=tp.API(auth)"
   ]
  },
  {
   "cell_type": "code",
   "execution_count": 21,
   "metadata": {
    "ExecuteTime": {
     "end_time": "2018-07-01T12:32:31.059859Z",
     "start_time": "2018-07-01T12:32:30.997837Z"
    }
   },
   "outputs": [],
   "source": [
    "# for t in api.home_timeline():\n",
    "#     print(t)"
   ]
  },
  {
   "cell_type": "code",
   "execution_count": 22,
   "metadata": {
    "ExecuteTime": {
     "end_time": "2018-07-01T12:32:35.466939Z",
     "start_time": "2018-07-01T12:32:31.063852Z"
    }
   },
   "outputs": [],
   "source": [
    "user=api.get_user('maroofkay')"
   ]
  },
  {
   "cell_type": "code",
   "execution_count": 23,
   "metadata": {
    "ExecuteTime": {
     "end_time": "2018-07-01T12:32:35.475940Z",
     "start_time": "2018-07-01T12:32:35.470943Z"
    }
   },
   "outputs": [
    {
     "name": "stdout",
     "output_type": "stream",
     "text": [
      "maroofkay\n"
     ]
    }
   ],
   "source": [
    "print(user.screen_name)"
   ]
  },
  {
   "cell_type": "code",
   "execution_count": 24,
   "metadata": {
    "ExecuteTime": {
     "end_time": "2018-07-01T12:32:35.636111Z",
     "start_time": "2018-07-01T12:32:35.480939Z"
    }
   },
   "outputs": [
    {
     "name": "stdout",
     "output_type": "stream",
     "text": [
      "Maroof Khan\n"
     ]
    }
   ],
   "source": [
    "print(user.name)"
   ]
  },
  {
   "cell_type": "code",
   "execution_count": 25,
   "metadata": {
    "ExecuteTime": {
     "end_time": "2018-07-01T12:32:35.712136Z",
     "start_time": "2018-07-01T12:32:35.640113Z"
    }
   },
   "outputs": [
    {
     "name": "stdout",
     "output_type": "stream",
     "text": [
      "1794\n"
     ]
    }
   ],
   "source": [
    "print(user.statuses_count)"
   ]
  },
  {
   "cell_type": "code",
   "execution_count": 26,
   "metadata": {
    "ExecuteTime": {
     "end_time": "2018-07-01T12:32:35.785135Z",
     "start_time": "2018-07-01T12:32:35.718141Z"
    }
   },
   "outputs": [],
   "source": [
    "# print(user.status._json)"
   ]
  },
  {
   "cell_type": "code",
   "execution_count": 27,
   "metadata": {
    "ExecuteTime": {
     "end_time": "2018-07-01T12:32:35.874580Z",
     "start_time": "2018-07-01T12:32:35.790133Z"
    }
   },
   "outputs": [],
   "source": [
    "# user._json"
   ]
  },
  {
   "cell_type": "code",
   "execution_count": 28,
   "metadata": {
    "ExecuteTime": {
     "end_time": "2018-07-01T12:32:35.935602Z",
     "start_time": "2018-07-01T12:32:35.879583Z"
    }
   },
   "outputs": [],
   "source": [
    "# all_tweets=api.user_timeline('maroofkay',page=20)\n",
    "# all_tweets=tp.Cursor(api.user_timeline,id='maroofkay').items()\n",
    "# len(all_tweets)"
   ]
  },
  {
   "cell_type": "code",
   "execution_count": 30,
   "metadata": {
    "ExecuteTime": {
     "end_time": "2018-07-01T12:32:36.087648Z",
     "start_time": "2018-07-01T12:32:36.023615Z"
    }
   },
   "outputs": [],
   "source": [
    "import emoji"
   ]
  },
  {
   "cell_type": "code",
   "execution_count": 31,
   "metadata": {
    "ExecuteTime": {
     "end_time": "2018-07-01T12:32:36.165653Z",
     "start_time": "2018-07-01T12:32:36.093652Z"
    }
   },
   "outputs": [],
   "source": [
    "users_list=['thebethanyjane','sophiethesmurfy','ZuberiSpeaks','ThestoryofJS','mahatweetz','ZaraLouU','notesfromarshi','ThisIsKristin_','MichaelDewey99','joansenio1','holtbt']"
   ]
  },
  {
   "cell_type": "code",
   "execution_count": 35,
   "metadata": {
    "ExecuteTime": {
     "end_time": "2018-07-01T12:37:33.917976Z",
     "start_time": "2018-07-01T12:35:47.724523Z"
    },
    "scrolled": true
   },
   "outputs": [],
   "source": [
    "for user in users_list:\n",
    "    with open(f'{user}.txt','wb') as f:\n",
    "        for status in tp.Cursor(api.user_timeline,id=user).items(limit=20):\n",
    "            temp=status._json['text']\n",
    "    #         print(temp)\n",
    "#             print(emoji.demojize(temp))\n",
    "    #         f.write(str(emoji.demojize(temp).encode('utf-8')))\n",
    "    #         f.write(str(emoji.demojize(temp).encode('utf-8')))\n",
    "            f.write(emoji.demojize(temp).encode('utf-8'))\n",
    "    #         f.write(emoji.demojize(temp))\n",
    "#         break"
   ]
  },
  {
   "cell_type": "code",
   "execution_count": null,
   "metadata": {},
   "outputs": [],
   "source": []
  }
 ],
 "metadata": {
  "kernelspec": {
   "display_name": "Python 3",
   "language": "python",
   "name": "python3"
  },
  "language_info": {
   "codemirror_mode": {
    "name": "ipython",
    "version": 3
   },
   "file_extension": ".py",
   "mimetype": "text/x-python",
   "name": "python",
   "nbconvert_exporter": "python",
   "pygments_lexer": "ipython3",
   "version": "3.6.5"
  }
 },
 "nbformat": 4,
 "nbformat_minor": 2
}
